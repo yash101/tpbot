{
 "cells": [
  {
   "cell_type": "markdown",
   "id": "f7736b53-bfb7-4f4f-a191-8039ddbd25c6",
   "metadata": {},
   "source": [
    "# Board Bringup"
   ]
  },
  {
   "cell_type": "markdown",
   "id": "d0131fca-d1f9-4f5f-a8df-1d5f54bee91b",
   "metadata": {},
   "source": [
    "## Safe Initial\n",
    "\n",
    "Use variable lab bench power supply. Bring up IOLV before HV bus.\n",
    "\n",
    "Current limit: peak current draw should be $\\leq 300mA$"
   ]
  },
  {
   "cell_type": "markdown",
   "id": "15db3689-0550-4298-b156-603fe98334e4",
   "metadata": {},
   "source": [
    "## Known Issues"
   ]
  },
  {
   "cell_type": "markdown",
   "id": "a03abcb7-ac69-4183-a555-aebe88ecccc5",
   "metadata": {},
   "source": [
    "### Incompatible Pin Mappings\n",
    "\n",
    "Multiple GPIO mappings to the ESP32-C5 are incorrect on the final board. They need to be bodged.\n",
    "\n",
    "1. Move i2c SCL to a different pin\n",
    "    * Remove the header pin for GPIO3/SCL\n",
    "    * Bodge wire board pin from GPIO3 to GPIO5\n",
    "2. Move SPI Chip select to a different pin\n",
    "    * Remove header pin for GPIO15. Run jumper from GPIO15 pad to GPIO0 on the expansion header"
   ]
  }
 ],
 "metadata": {
  "kernelspec": {
   "display_name": "Python 3 (ipykernel)",
   "language": "python",
   "name": "python3"
  },
  "language_info": {
   "codemirror_mode": {
    "name": "ipython",
    "version": 3
   },
   "file_extension": ".py",
   "mimetype": "text/x-python",
   "name": "python",
   "nbconvert_exporter": "python",
   "pygments_lexer": "ipython3",
   "version": "3.13.1"
  }
 },
 "nbformat": 4,
 "nbformat_minor": 5
}
