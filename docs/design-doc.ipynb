{
 "cells": [
  {
   "cell_type": "markdown",
   "id": "7c31cf2f-01bf-4170-855f-4e598748454e",
   "metadata": {},
   "source": [
    "# Design Doc - Telepresence Robot"
   ]
  },
  {
   "cell_type": "markdown",
   "id": "c762ae87-ee6d-472f-9202-f1b592e10910",
   "metadata": {},
   "source": [
    "## Goals\n",
    "\n",
    "Create a robot which can be driven from anywhere around the world over a video feed. Try to achieve minimum possible latency to maximize user experience."
   ]
  },
  {
   "cell_type": "markdown",
   "id": "5a1a037e-58ed-46b6-940c-37814f2cf33d",
   "metadata": {},
   "source": [
    "## Components\n",
    "\n",
    "* Robot (physical)\n",
    "* Robot controller electronics\n",
    "* Power source (battery)\n",
    "* Robot firmware\n",
    "* Controller frontend\n",
    "* Controller backend\n",
    "* Low latency backend (edge backend?)"
   ]
  },
  {
   "cell_type": "markdown",
   "id": "9c077492-cdc0-449b-a405-32bba0b0bf39",
   "metadata": {},
   "source": [
    "## Robot Chassis"
   ]
  },
  {
   "cell_type": "markdown",
   "id": "4de61dd5-01a8-477e-b561-6b8c89d3f600",
   "metadata": {},
   "source": [
    "Design goals: keep it cheap and simple.\n",
    "\n",
    "* Ideally tank drive -esque drivetrain\n",
    "* Differential torque control\n",
    "* Minimum 3d printing, use Al extrusion instead"
   ]
  },
  {
   "cell_type": "markdown",
   "id": "fbe0d622-7858-4f2a-b442-b2f8d3ea22bb",
   "metadata": {},
   "source": [
    "### Drivetrain\n",
    "\n",
    "Two powertrains for each side. Each powertrain contains one motor and one driven wheel and is mostly self-contained.\n",
    "\n",
    "#### Powertrain\n",
    "\n",
    "* **Manufacturing**: 3d printed\n",
    "* **Quantity**: 2 units per robot\n",
    "* **Motor Type**: NEMA17 stepper motor (1.7inch)\n",
    "    * [Jameco](https://www.jameco.com/z/STP-42D201-37-Shinano-Kenshi-12-Volt-1-8-Step-Angle-Bipolar-Stepper-Motor_2158531.html)\n",
    "    * Stock: 10 units in Yash's lab\n",
    "    * Supply chain: impossible to source, find replacement\n",
    "    * Holding torque: 3200g-cm / 32g-m\n",
    "    * Torque curve TBD\n",
    "* **Gearing**: tune max robot speed to knee speed of the motor (peak power)\n",
    "    * Calculate peak power, $P\\propto I\\times\\omega$\n",
    "    * Gear ratio = $\\frac{\\omega_\\text{knee}}{\\omega_\\text{output-max}}$\n",
    "* Other notes: may need to switch to better stepper motors if these are not performant enough. May get expensive.\n",
    "\n",
    "#### Casters\n",
    "\n",
    "Two caster wheels will be used in the front corners of the robot to allow for steering input"
   ]
  },
  {
   "cell_type": "markdown",
   "id": "7a8c9934-fef3-4e1f-a0cb-59632228e1dd",
   "metadata": {},
   "source": [
    "## Electronics"
   ]
  },
  {
   "cell_type": "markdown",
   "id": "0d376c72-1588-4bcd-b5aa-55b7c940e716",
   "metadata": {},
   "source": [
    "The electronics consist of a motherboard and several system on modules.\n",
    "\n",
    "* **Motherboard**: connects everything together. Hosts power management, voltage regulation, signal routing and signal isolation\n",
    "* **INA228**: battery PMIC to ensure safety handling lithium polymer, lithium ion and other chemistry batteries\n",
    "* **Power FETs**: enable/disable high voltage power electronics, enable/disable compute power\n",
    "* **ISO7762DBQ**: logic-level isolator. Allows different voltage buses to power compute and motor drivers for safety\n",
    "* **TMC5160T Pro**: SOM, BigTreeTech SilentStepStick bipolar stepper driver board, fully integrated\n",
    "* **ESP32 C5**: Main CPU, has 2.4GHz and 5GHz WiFi support, with AX support and OFDMA\n",
    "* **Isolators**: multiple open-collector isolators are used to control power electronics and slow signals (Vishay VO617A-2)"
   ]
  },
  {
   "cell_type": "markdown",
   "id": "10653a2b-a31a-4601-ac4d-ce28f3217a1f",
   "metadata": {},
   "source": [
    "### Electronics architecture\n",
    "\n",
    "The main controller which connects everything together is the ESP32 C5. It uses various buses to commnunicate with peripherals.\n",
    "\n",
    "An i2c bus is used to communicate with the INA228. The INA228 is a differential sense amplifier and high voltage analog to digital converter. It has a few jobs:\n",
    "\n",
    "1. Measure the instantaneous current being consumed from the battery\n",
    "2. Measure the voltage of the battery\n",
    "3. Coulomb count (integrate the amps drawn over time to measure battery usage in ampere-hour capacity)\n",
    "\n",
    "An SPI bus is used to communicate with the TMC5160 motor controllers. The TMC5160 motor controllers are chained together, SDO to SDI.\n",
    "\n",
    "There are three GPIOs used to enable/disable different power subsystems:\n",
    "\n",
    "1. GPIO24: setting this as high will enable the MOSFET which powers the high voltage section\n",
    "2. GPIO23: setting this as high will enable the output MOSFETs of the motor drivers (this brings up the enable pin of the TMC5160 drivers)\n",
    "3. GPIO4/LPGPIO4: setting this as high will enable power to the compute subsystem. Disabling this will fully shut down the robot"
   ]
  },
  {
   "cell_type": "markdown",
   "id": "9251a899-817f-4605-befa-7dd990f94e76",
   "metadata": {},
   "source": [
    "## Power\n",
    "\n",
    "This board is designed to be powered by a rechargeable battery. This board is designed such that longer inductive spikes should be able to recharge the battery and TVS operation should be minimized. Achieving max power on a switching power supply will result in possible magic smoke in the TMC5160 motor drivers as well as its FETs.\n",
    "\n",
    "Note: the SilentStepStick boards have a design flaw which results in the max operating voltage of 40V instead of the 50+V which are often advertised.\n",
    "\n",
    "Two MOSFETs which power up the two different power domains:\n",
    "\n",
    "1. High voltage power domain: provides power to motors\n",
    "2. Low voltage (aux) power domain: provides power to the compute section (microcontroller, isolators, Vio, etc.)\n",
    "\n",
    "The aux power output is designed to power a buck converter to bring down the working voltage closer to ~6-8v to not blow up the LDOs. Under normal operation, power up the board using that LDO via the IOLV header. Bring GPIO4/LPGPIO4 to high to ensure the rail does not die.\n",
    "\n",
    "To allow for soft power up, a header exists to control this power supply: **J2 / EXT_PWR_BTN**. While `EXT_PWR_BTN` is shorted, it will force the low voltage FET into conduction allowing the robot to boot up.\n",
    "\n",
    "Rapidly set GPIO4/LPGPIO4 to high on ESP32 boot to ensure power stays on."
   ]
  },
  {
   "cell_type": "markdown",
   "id": "4ca4b353-136f-431f-a11f-962d3db23cff",
   "metadata": {},
   "source": [
    "## Motor Control"
   ]
  },
  {
   "cell_type": "markdown",
   "id": "5553b5af-5052-45c0-9e1a-7cf56417f396",
   "metadata": {},
   "source": [
    "This board is designed around the TCM5160 chips to drive stepper motors. The TMC5160 contains a \"ramp generator\" - an ASIC which can internally generate a signal to \"step\" the motor (commutate it so it moves). The TMC5160 can offload most of the work off the microcontroller to its own ASICs allowing for easy development.\n",
    "\n",
    "The TMC5160 motor drivers are connected via SPI and chained together. An infinite number (minus real-life timing issues) of drivers can be chained together.\n",
    "\n",
    "Read the TMC5160 stepper driver's datasheet for implementation details."
   ]
  },
  {
   "cell_type": "markdown",
   "id": "1a84774f-c1ec-458c-b708-240cbd356cb6",
   "metadata": {},
   "source": [
    "## Communications"
   ]
  },
  {
   "cell_type": "markdown",
   "id": "67e669e8-643d-4c97-b1e1-01b54bd97a19",
   "metadata": {},
   "source": [
    "The primary robot controller is an ESP32-C5, a microcontroller with dual band (2.4GHz and 5GHz) wifi 6 (AX) with OFDMA support for lower latency.\n",
    "\n",
    "To facilitate client to robot controller, multiple hardware and software components will be utilized:\n",
    "\n",
    "* **Client**: web browser (Next.js export / React), deployed to CloudFlare\n",
    "* **Backend**: TypeScript + WebSocket + REST, deployed to cloud\n",
    "* **Low-latency (edge) backend (LLBE)**: WebRTC + DTLS, deployed to edge server (Raspberry Pi 5, ethernet)\n",
    "* **LLBE to robot communication**: DTLS (on ESP32-C5)\n",
    "\n",
    "Additionally, video streaming will rely WebRTC.\n",
    "\n",
    "WebRTC connections will be established via STUN."
   ]
  }
 ],
 "metadata": {
  "kernelspec": {
   "display_name": "Python 3 (ipykernel)",
   "language": "python",
   "name": "python3"
  },
  "language_info": {
   "codemirror_mode": {
    "name": "ipython",
    "version": 3
   },
   "file_extension": ".py",
   "mimetype": "text/x-python",
   "name": "python",
   "nbconvert_exporter": "python",
   "pygments_lexer": "ipython3",
   "version": "3.13.1"
  }
 },
 "nbformat": 4,
 "nbformat_minor": 5
}
