{
 "cells": [
  {
   "cell_type": "markdown",
   "id": "4a0a3b69-0095-4315-8971-d2bd01e2d45a",
   "metadata": {},
   "source": [
    "# Mechanical"
   ]
  },
  {
   "cell_type": "markdown",
   "id": "82570ab2-362d-4866-8892-cf2086a57007",
   "metadata": {},
   "source": [
    "## Design\n",
    "\n",
    "TBD"
   ]
  },
  {
   "cell_type": "markdown",
   "id": "94cd60a6-0a0d-48cf-b7bd-0c196099363d",
   "metadata": {},
   "source": [
    "## Design Goals"
   ]
  },
  {
   "cell_type": "markdown",
   "id": "7d89e51e-f476-4358-a972-58eed61bdd1e",
   "metadata": {},
   "source": [
    "* Cheap\n",
    "* Works\n",
    "* Minumum 3D printing due to lack of 3D printer access\n",
    "* Use 2020 aluminum extrusion for mechanicals\n",
    "* Does not need to be reliable, it's a v0 design\n",
    "* Motor performance is significant design factor\n",
    "    * Motor is **constant torque** until \"knee speed\" where torque drops off linearly after that.\n",
    "    * Max motor power is at knee speed, where $\\tau\\times\\omega$ is maximized. Power drops off linearly after that speed due to the inability to push further current into the motor windings.\n",
    "    * Motor is current-limited, thus the limitations"
   ]
  },
  {
   "cell_type": "markdown",
   "id": "0f8c92fa-1697-47ff-9452-1b78da3517b8",
   "metadata": {},
   "source": [
    "## Constraints\n",
    "\n",
    "* Tank drive (differential torque steering)\n",
    "* Motor to driveshaft requires a gearbox\n",
    "* Minimize COG"
   ]
  },
  {
   "cell_type": "markdown",
   "id": "f5614f88-7aa0-4ab2-bd98-069da182c60d",
   "metadata": {},
   "source": [
    "## Drivetrain Performance"
   ]
  },
  {
   "cell_type": "markdown",
   "id": "6da690d7-ce5f-4fae-8666-27cfed20551c",
   "metadata": {},
   "source": [
    "* Max speed: ~2mph / ~1m/s\n",
    "* Gear the motor so it's knee speed is equivalent to the output shaft speed to achieve 1m/s"
   ]
  },
  {
   "cell_type": "markdown",
   "id": "323be4ec-3a08-48d2-8f1c-fcf22eab1aa5",
   "metadata": {},
   "source": [
    "## Interface\n",
    "\n",
    "Interface will be KISS/COTS. Need to mount a tablet / laptop at the top of the robot which humans will interact with."
   ]
  }
 ],
 "metadata": {
  "kernelspec": {
   "display_name": "Python 3 (ipykernel)",
   "language": "python",
   "name": "python3"
  },
  "language_info": {
   "codemirror_mode": {
    "name": "ipython",
    "version": 3
   },
   "file_extension": ".py",
   "mimetype": "text/x-python",
   "name": "python",
   "nbconvert_exporter": "python",
   "pygments_lexer": "ipython3",
   "version": "3.13.1"
  }
 },
 "nbformat": 4,
 "nbformat_minor": 5
}
