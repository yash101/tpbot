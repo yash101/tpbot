{
 "cells": [
  {
   "cell_type": "markdown",
   "id": "f6c6ea90-a362-4c29-8d54-6a75d2a6ad22",
   "metadata": {},
   "source": [
    "# Robot Controller"
   ]
  },
  {
   "cell_type": "markdown",
   "id": "88b9a118-0e30-4ed2-a080-3864e75ade80",
   "metadata": {},
   "source": [
    "This document is TBD. Most of the robot controller documentation is in the board bringup docs, design doc and CAD files"
   ]
  }
 ],
 "metadata": {
  "kernelspec": {
   "display_name": "Python 3 (ipykernel)",
   "language": "python",
   "name": "python3"
  },
  "language_info": {
   "codemirror_mode": {
    "name": "ipython",
    "version": 3
   },
   "file_extension": ".py",
   "mimetype": "text/x-python",
   "name": "python",
   "nbconvert_exporter": "python",
   "pygments_lexer": "ipython3",
   "version": "3.13.1"
  }
 },
 "nbformat": 4,
 "nbformat_minor": 5
}
