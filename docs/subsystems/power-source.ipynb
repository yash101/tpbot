{
 "cells": [
  {
   "cell_type": "markdown",
   "id": "df0bc1bb-871a-4323-b15c-9c3979df3a6a",
   "metadata": {},
   "source": [
    "# Power Source"
   ]
  },
  {
   "cell_type": "markdown",
   "id": "292f8109-6185-43f8-86c0-15153ef90e3f",
   "metadata": {},
   "source": [
    "This robot shall be powered by a lithium ion / lithium polymer battery."
   ]
  },
  {
   "cell_type": "markdown",
   "id": "0b2a7a28-69e5-4707-978a-f57bd912fda3",
   "metadata": {},
   "source": [
    "## Power Source Protection"
   ]
  },
  {
   "cell_type": "markdown",
   "id": "051bdb17-2bbf-4c92-9a44-0066da5def6c",
   "metadata": {},
   "source": [
    "When the robot is \"off\", current consumption should be $0\\micro A$.\n",
    "\n",
    "An INA228 BMS and instrumentation amplifier does two things:\n",
    "\n",
    "1. Measure battery voltage (UVLO)\n",
    "2. Measure battery current\n",
    "    * Coulomb counting and battery life prediction\n",
    "    * Over current protection"
   ]
  },
  {
   "cell_type": "markdown",
   "id": "36d19805-939f-4c06-a81b-e85520b05f01",
   "metadata": {},
   "source": [
    "## Constraints"
   ]
  },
  {
   "cell_type": "markdown",
   "id": "454aeb06-b411-4bd1-bf30-0ab3e42b1c7b",
   "metadata": {},
   "source": [
    "* 15 amp continuous current rating\n",
    "* 12-30v voltage range\n",
    "* Ideally large capacity for longer runtime"
   ]
  },
  {
   "cell_type": "markdown",
   "id": "8ac3da30-483c-4c50-8f40-890d19b6e469",
   "metadata": {},
   "source": [
    "## Safety"
   ]
  },
  {
   "cell_type": "markdown",
   "id": "28613f4a-bcc3-4170-bce0-9039e4e9cb59",
   "metadata": {},
   "source": [
    "1. Battery voltage of ~36v will short when HV section is active due to 36v TVS\n",
    "2. Low ESI recommended\n",
    "3. Careful when powering up and down the power FET\n",
    "    * Massive input capacitors will suddenly charge with huge inrush currents when FET is turned on\n",
    "    * Turning off while motors are moving can create massive transients. Caps and TVS should collect that but could be an issue."
   ]
  }
 ],
 "metadata": {
  "kernelspec": {
   "display_name": "Python 3 (ipykernel)",
   "language": "python",
   "name": "python3"
  },
  "language_info": {
   "codemirror_mode": {
    "name": "ipython",
    "version": 3
   },
   "file_extension": ".py",
   "mimetype": "text/x-python",
   "name": "python",
   "nbconvert_exporter": "python",
   "pygments_lexer": "ipython3",
   "version": "3.13.1"
  }
 },
 "nbformat": 4,
 "nbformat_minor": 5
}
